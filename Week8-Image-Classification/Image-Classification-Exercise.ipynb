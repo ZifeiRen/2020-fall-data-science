{
 "cells": [
  {
   "cell_type": "markdown",
   "metadata": {},
   "source": [
    "# Image Classification\n",
    "In this exercise, you will be classifying images about clothes. The data set you will be using is called `fashion-small.csv`.\n",
    "\n",
    "### Remember our main steps motto _isbe_.\n",
    "1. i - Inspect and explore data.\n",
    "2. s - Select and engineer features.\n",
    "3. b - Build and train model.\n",
    "4. e - Evaluate model.\n"
   ]
  },
  {
   "cell_type": "code",
   "execution_count": 1,
   "metadata": {},
   "outputs": [],
   "source": [
    "# Import your libraries\n",
    "import pandas as pd\n",
    "import numpy as np\n",
    "\n",
    "# Import classifiers\n",
    "from sklearn.svm import SVC\n",
    "from sklearn.ensemble import RandomForestClassifier\n",
    "from sklearn.linear_model import LogisticRegression\n",
    "\n",
    "# metrics contain our plot_confustion_matrix and classification_report\n",
    "from sklearn import metrics\n",
    "\n",
    "# Helper fuction to splitting data\n",
    "from sklearn.model_selection import train_test_split\n",
    "\n",
    "# For plotting\n",
    "import matplotlib.pyplot as plt\n",
    "%matplotlib inline \n"
   ]
  },
  {
   "cell_type": "markdown",
   "metadata": {},
   "source": [
    "# 1. Inspect and explore our data\n",
    "1. Load the `fashion-small.csv` data into a pandas dataframe. \n",
    "2. Inspect / remove null values. \n",
    "3. Inspect / remove duplicate rows. \n",
    "4. Print out the number examples in each class aka the class balances. \n",
    "5. Visualize at least one image."
   ]
  },
  {
   "cell_type": "code",
   "execution_count": 2,
   "metadata": {},
   "outputs": [
    {
     "data": {
      "text/html": [
       "<div>\n",
       "<style scoped>\n",
       "    .dataframe tbody tr th:only-of-type {\n",
       "        vertical-align: middle;\n",
       "    }\n",
       "\n",
       "    .dataframe tbody tr th {\n",
       "        vertical-align: top;\n",
       "    }\n",
       "\n",
       "    .dataframe thead th {\n",
       "        text-align: right;\n",
       "    }\n",
       "</style>\n",
       "<table border=\"1\" class=\"dataframe\">\n",
       "  <thead>\n",
       "    <tr style=\"text-align: right;\">\n",
       "      <th></th>\n",
       "      <th>label</th>\n",
       "      <th>pixel1</th>\n",
       "      <th>pixel2</th>\n",
       "      <th>pixel3</th>\n",
       "      <th>pixel4</th>\n",
       "      <th>pixel5</th>\n",
       "      <th>pixel6</th>\n",
       "      <th>pixel7</th>\n",
       "      <th>pixel8</th>\n",
       "      <th>pixel9</th>\n",
       "      <th>...</th>\n",
       "      <th>pixel775</th>\n",
       "      <th>pixel776</th>\n",
       "      <th>pixel777</th>\n",
       "      <th>pixel778</th>\n",
       "      <th>pixel779</th>\n",
       "      <th>pixel780</th>\n",
       "      <th>pixel781</th>\n",
       "      <th>pixel782</th>\n",
       "      <th>pixel783</th>\n",
       "      <th>pixel784</th>\n",
       "    </tr>\n",
       "  </thead>\n",
       "  <tbody>\n",
       "    <tr>\n",
       "      <th>0</th>\n",
       "      <td>T-shirt/top</td>\n",
       "      <td>0</td>\n",
       "      <td>0</td>\n",
       "      <td>0</td>\n",
       "      <td>0</td>\n",
       "      <td>0</td>\n",
       "      <td>0</td>\n",
       "      <td>0</td>\n",
       "      <td>0</td>\n",
       "      <td>0</td>\n",
       "      <td>...</td>\n",
       "      <td>66</td>\n",
       "      <td>25</td>\n",
       "      <td>0</td>\n",
       "      <td>0</td>\n",
       "      <td>0</td>\n",
       "      <td>0</td>\n",
       "      <td>0</td>\n",
       "      <td>0</td>\n",
       "      <td>0</td>\n",
       "      <td>0</td>\n",
       "    </tr>\n",
       "    <tr>\n",
       "      <th>1</th>\n",
       "      <td>Trouser</td>\n",
       "      <td>0</td>\n",
       "      <td>0</td>\n",
       "      <td>0</td>\n",
       "      <td>0</td>\n",
       "      <td>0</td>\n",
       "      <td>0</td>\n",
       "      <td>0</td>\n",
       "      <td>0</td>\n",
       "      <td>0</td>\n",
       "      <td>...</td>\n",
       "      <td>170</td>\n",
       "      <td>25</td>\n",
       "      <td>0</td>\n",
       "      <td>0</td>\n",
       "      <td>0</td>\n",
       "      <td>0</td>\n",
       "      <td>0</td>\n",
       "      <td>0</td>\n",
       "      <td>0</td>\n",
       "      <td>0</td>\n",
       "    </tr>\n",
       "    <tr>\n",
       "      <th>2</th>\n",
       "      <td>Dress</td>\n",
       "      <td>0</td>\n",
       "      <td>0</td>\n",
       "      <td>0</td>\n",
       "      <td>0</td>\n",
       "      <td>0</td>\n",
       "      <td>0</td>\n",
       "      <td>0</td>\n",
       "      <td>0</td>\n",
       "      <td>0</td>\n",
       "      <td>...</td>\n",
       "      <td>76</td>\n",
       "      <td>80</td>\n",
       "      <td>0</td>\n",
       "      <td>0</td>\n",
       "      <td>0</td>\n",
       "      <td>1</td>\n",
       "      <td>0</td>\n",
       "      <td>0</td>\n",
       "      <td>0</td>\n",
       "      <td>0</td>\n",
       "    </tr>\n",
       "    <tr>\n",
       "      <th>3</th>\n",
       "      <td>Ankle boot</td>\n",
       "      <td>0</td>\n",
       "      <td>0</td>\n",
       "      <td>0</td>\n",
       "      <td>0</td>\n",
       "      <td>0</td>\n",
       "      <td>0</td>\n",
       "      <td>0</td>\n",
       "      <td>0</td>\n",
       "      <td>0</td>\n",
       "      <td>...</td>\n",
       "      <td>0</td>\n",
       "      <td>0</td>\n",
       "      <td>0</td>\n",
       "      <td>0</td>\n",
       "      <td>0</td>\n",
       "      <td>0</td>\n",
       "      <td>0</td>\n",
       "      <td>0</td>\n",
       "      <td>0</td>\n",
       "      <td>0</td>\n",
       "    </tr>\n",
       "    <tr>\n",
       "      <th>4</th>\n",
       "      <td>Dress</td>\n",
       "      <td>0</td>\n",
       "      <td>0</td>\n",
       "      <td>0</td>\n",
       "      <td>0</td>\n",
       "      <td>0</td>\n",
       "      <td>0</td>\n",
       "      <td>0</td>\n",
       "      <td>22</td>\n",
       "      <td>53</td>\n",
       "      <td>...</td>\n",
       "      <td>79</td>\n",
       "      <td>78</td>\n",
       "      <td>18</td>\n",
       "      <td>0</td>\n",
       "      <td>2</td>\n",
       "      <td>0</td>\n",
       "      <td>0</td>\n",
       "      <td>0</td>\n",
       "      <td>0</td>\n",
       "      <td>0</td>\n",
       "    </tr>\n",
       "  </tbody>\n",
       "</table>\n",
       "<p>5 rows × 785 columns</p>\n",
       "</div>"
      ],
      "text/plain": [
       "         label  pixel1  pixel2  pixel3  pixel4  pixel5  pixel6  pixel7  \\\n",
       "0  T-shirt/top       0       0       0       0       0       0       0   \n",
       "1      Trouser       0       0       0       0       0       0       0   \n",
       "2        Dress       0       0       0       0       0       0       0   \n",
       "3   Ankle boot       0       0       0       0       0       0       0   \n",
       "4        Dress       0       0       0       0       0       0       0   \n",
       "\n",
       "   pixel8  pixel9  ...  pixel775  pixel776  pixel777  pixel778  pixel779  \\\n",
       "0       0       0  ...        66        25         0         0         0   \n",
       "1       0       0  ...       170        25         0         0         0   \n",
       "2       0       0  ...        76        80         0         0         0   \n",
       "3       0       0  ...         0         0         0         0         0   \n",
       "4      22      53  ...        79        78        18         0         2   \n",
       "\n",
       "   pixel780  pixel781  pixel782  pixel783  pixel784  \n",
       "0         0         0         0         0         0  \n",
       "1         0         0         0         0         0  \n",
       "2         1         0         0         0         0  \n",
       "3         0         0         0         0         0  \n",
       "4         0         0         0         0         0  \n",
       "\n",
       "[5 rows x 785 columns]"
      ]
     },
     "execution_count": 2,
     "metadata": {},
     "output_type": "execute_result"
    }
   ],
   "source": [
    "# 1. Load data into a pandas dataframe. \n",
    "df = pd.read_csv('data/fashion-small.csv')\n",
    "df.head()"
   ]
  },
  {
   "cell_type": "markdown",
   "metadata": {},
   "source": [
    "### Inspect for null values"
   ]
  },
  {
   "cell_type": "code",
   "execution_count": 3,
   "metadata": {},
   "outputs": [
    {
     "data": {
      "text/plain": [
       "0"
      ]
     },
     "execution_count": 3,
     "metadata": {},
     "output_type": "execute_result"
    }
   ],
   "source": [
    "# 2. Inspect / remove null values. \n",
    "df.isnull().sum().sum()"
   ]
  },
  {
   "cell_type": "markdown",
   "metadata": {},
   "source": [
    "### Check for duplicates"
   ]
  },
  {
   "cell_type": "code",
   "execution_count": 4,
   "metadata": {},
   "outputs": [
    {
     "data": {
      "text/plain": [
       "0"
      ]
     },
     "execution_count": 4,
     "metadata": {},
     "output_type": "execute_result"
    }
   ],
   "source": [
    "# 3. Inspect / remove duplicate rows. \n",
    "df.duplicated().sum()"
   ]
  },
  {
   "cell_type": "markdown",
   "metadata": {},
   "source": [
    "### Lets look at our class balances"
   ]
  },
  {
   "cell_type": "code",
   "execution_count": 5,
   "metadata": {},
   "outputs": [
    {
     "data": {
      "text/plain": [
       "(Sandal         646\n",
       " Trouser        612\n",
       " Ankle boot     605\n",
       " Shirt          601\n",
       " Pullover       598\n",
       " Coat           597\n",
       " T-shirt/top    590\n",
       " Dress          585\n",
       " Bag            584\n",
       " Sneaker        582\n",
       " Name: label, dtype: int64,\n",
       " Sandal         0.107667\n",
       " Trouser        0.102000\n",
       " Ankle boot     0.100833\n",
       " Shirt          0.100167\n",
       " Pullover       0.099667\n",
       " Coat           0.099500\n",
       " T-shirt/top    0.098333\n",
       " Dress          0.097500\n",
       " Bag            0.097333\n",
       " Sneaker        0.097000\n",
       " Name: label, dtype: float64)"
      ]
     },
     "execution_count": 5,
     "metadata": {},
     "output_type": "execute_result"
    }
   ],
   "source": [
    "# 4. Print out the number examples in each class aka the class balances. \n",
    "df.label.value_counts(), df.label.value_counts(normalize=True)"
   ]
  },
  {
   "cell_type": "markdown",
   "metadata": {},
   "source": [
    "# Visualize one image"
   ]
  },
  {
   "cell_type": "code",
   "execution_count": 6,
   "metadata": {},
   "outputs": [
    {
     "data": {
      "text/html": [
       "<div>\n",
       "<style scoped>\n",
       "    .dataframe tbody tr th:only-of-type {\n",
       "        vertical-align: middle;\n",
       "    }\n",
       "\n",
       "    .dataframe tbody tr th {\n",
       "        vertical-align: top;\n",
       "    }\n",
       "\n",
       "    .dataframe thead th {\n",
       "        text-align: right;\n",
       "    }\n",
       "</style>\n",
       "<table border=\"1\" class=\"dataframe\">\n",
       "  <thead>\n",
       "    <tr style=\"text-align: right;\">\n",
       "      <th></th>\n",
       "      <th>label</th>\n",
       "      <th>pixel1</th>\n",
       "      <th>pixel2</th>\n",
       "      <th>pixel3</th>\n",
       "      <th>pixel4</th>\n",
       "      <th>pixel5</th>\n",
       "      <th>pixel6</th>\n",
       "      <th>pixel7</th>\n",
       "      <th>pixel8</th>\n",
       "      <th>pixel9</th>\n",
       "      <th>...</th>\n",
       "      <th>pixel775</th>\n",
       "      <th>pixel776</th>\n",
       "      <th>pixel777</th>\n",
       "      <th>pixel778</th>\n",
       "      <th>pixel779</th>\n",
       "      <th>pixel780</th>\n",
       "      <th>pixel781</th>\n",
       "      <th>pixel782</th>\n",
       "      <th>pixel783</th>\n",
       "      <th>pixel784</th>\n",
       "    </tr>\n",
       "  </thead>\n",
       "  <tbody>\n",
       "    <tr>\n",
       "      <th>0</th>\n",
       "      <td>T-shirt/top</td>\n",
       "      <td>0</td>\n",
       "      <td>0</td>\n",
       "      <td>0</td>\n",
       "      <td>0</td>\n",
       "      <td>0</td>\n",
       "      <td>0</td>\n",
       "      <td>0</td>\n",
       "      <td>0</td>\n",
       "      <td>0</td>\n",
       "      <td>...</td>\n",
       "      <td>66</td>\n",
       "      <td>25</td>\n",
       "      <td>0</td>\n",
       "      <td>0</td>\n",
       "      <td>0</td>\n",
       "      <td>0</td>\n",
       "      <td>0</td>\n",
       "      <td>0</td>\n",
       "      <td>0</td>\n",
       "      <td>0</td>\n",
       "    </tr>\n",
       "    <tr>\n",
       "      <th>1</th>\n",
       "      <td>Trouser</td>\n",
       "      <td>0</td>\n",
       "      <td>0</td>\n",
       "      <td>0</td>\n",
       "      <td>0</td>\n",
       "      <td>0</td>\n",
       "      <td>0</td>\n",
       "      <td>0</td>\n",
       "      <td>0</td>\n",
       "      <td>0</td>\n",
       "      <td>...</td>\n",
       "      <td>170</td>\n",
       "      <td>25</td>\n",
       "      <td>0</td>\n",
       "      <td>0</td>\n",
       "      <td>0</td>\n",
       "      <td>0</td>\n",
       "      <td>0</td>\n",
       "      <td>0</td>\n",
       "      <td>0</td>\n",
       "      <td>0</td>\n",
       "    </tr>\n",
       "    <tr>\n",
       "      <th>2</th>\n",
       "      <td>Dress</td>\n",
       "      <td>0</td>\n",
       "      <td>0</td>\n",
       "      <td>0</td>\n",
       "      <td>0</td>\n",
       "      <td>0</td>\n",
       "      <td>0</td>\n",
       "      <td>0</td>\n",
       "      <td>0</td>\n",
       "      <td>0</td>\n",
       "      <td>...</td>\n",
       "      <td>76</td>\n",
       "      <td>80</td>\n",
       "      <td>0</td>\n",
       "      <td>0</td>\n",
       "      <td>0</td>\n",
       "      <td>1</td>\n",
       "      <td>0</td>\n",
       "      <td>0</td>\n",
       "      <td>0</td>\n",
       "      <td>0</td>\n",
       "    </tr>\n",
       "    <tr>\n",
       "      <th>3</th>\n",
       "      <td>Ankle boot</td>\n",
       "      <td>0</td>\n",
       "      <td>0</td>\n",
       "      <td>0</td>\n",
       "      <td>0</td>\n",
       "      <td>0</td>\n",
       "      <td>0</td>\n",
       "      <td>0</td>\n",
       "      <td>0</td>\n",
       "      <td>0</td>\n",
       "      <td>...</td>\n",
       "      <td>0</td>\n",
       "      <td>0</td>\n",
       "      <td>0</td>\n",
       "      <td>0</td>\n",
       "      <td>0</td>\n",
       "      <td>0</td>\n",
       "      <td>0</td>\n",
       "      <td>0</td>\n",
       "      <td>0</td>\n",
       "      <td>0</td>\n",
       "    </tr>\n",
       "    <tr>\n",
       "      <th>4</th>\n",
       "      <td>Dress</td>\n",
       "      <td>0</td>\n",
       "      <td>0</td>\n",
       "      <td>0</td>\n",
       "      <td>0</td>\n",
       "      <td>0</td>\n",
       "      <td>0</td>\n",
       "      <td>0</td>\n",
       "      <td>22</td>\n",
       "      <td>53</td>\n",
       "      <td>...</td>\n",
       "      <td>79</td>\n",
       "      <td>78</td>\n",
       "      <td>18</td>\n",
       "      <td>0</td>\n",
       "      <td>2</td>\n",
       "      <td>0</td>\n",
       "      <td>0</td>\n",
       "      <td>0</td>\n",
       "      <td>0</td>\n",
       "      <td>0</td>\n",
       "    </tr>\n",
       "  </tbody>\n",
       "</table>\n",
       "<p>5 rows × 785 columns</p>\n",
       "</div>"
      ],
      "text/plain": [
       "         label  pixel1  pixel2  pixel3  pixel4  pixel5  pixel6  pixel7  \\\n",
       "0  T-shirt/top       0       0       0       0       0       0       0   \n",
       "1      Trouser       0       0       0       0       0       0       0   \n",
       "2        Dress       0       0       0       0       0       0       0   \n",
       "3   Ankle boot       0       0       0       0       0       0       0   \n",
       "4        Dress       0       0       0       0       0       0       0   \n",
       "\n",
       "   pixel8  pixel9  ...  pixel775  pixel776  pixel777  pixel778  pixel779  \\\n",
       "0       0       0  ...        66        25         0         0         0   \n",
       "1       0       0  ...       170        25         0         0         0   \n",
       "2       0       0  ...        76        80         0         0         0   \n",
       "3       0       0  ...         0         0         0         0         0   \n",
       "4      22      53  ...        79        78        18         0         2   \n",
       "\n",
       "   pixel780  pixel781  pixel782  pixel783  pixel784  \n",
       "0         0         0         0         0         0  \n",
       "1         0         0         0         0         0  \n",
       "2         1         0         0         0         0  \n",
       "3         0         0         0         0         0  \n",
       "4         0         0         0         0         0  \n",
       "\n",
       "[5 rows x 785 columns]"
      ]
     },
     "execution_count": 6,
     "metadata": {},
     "output_type": "execute_result"
    }
   ],
   "source": [
    "df.head()"
   ]
  },
  {
   "cell_type": "markdown",
   "metadata": {},
   "source": [
    "## First, we need to create a list that is just our pixel columns"
   ]
  },
  {
   "cell_type": "code",
   "execution_count": 7,
   "metadata": {},
   "outputs": [
    {
     "name": "stdout",
     "output_type": "stream",
     "text": [
      "<class 'pandas.core.indexes.base.Index'>\n",
      "<class 'list'>\n"
     ]
    }
   ],
   "source": [
    "# Grabs all of the columns \n",
    "pixel_cols = df.columns\n",
    "\n",
    "print(type(pixel_cols))\n",
    "\n",
    "# Convert the pandas index object into a regular list\n",
    "pixel_cols = list(pixel_cols)\n",
    "\n",
    "# Sanity check that it is now just a list.\n",
    "print(type(pixel_cols))\n",
    "\n",
    "# Remove the label column from the list\n",
    "pixel_cols.remove('label')\n"
   ]
  },
  {
   "cell_type": "markdown",
   "metadata": {},
   "source": [
    "## Extract one row and reshape it to its original 28x28 shape and plot the reshaped image."
   ]
  },
  {
   "cell_type": "code",
   "execution_count": 8,
   "metadata": {},
   "outputs": [
    {
     "name": "stdout",
     "output_type": "stream",
     "text": [
      "<class 'numpy.ndarray'>\n"
     ]
    },
    {
     "data": {
      "text/plain": [
       "<matplotlib.image.AxesImage at 0x7fa351dce700>"
      ]
     },
     "execution_count": 8,
     "metadata": {},
     "output_type": "execute_result"
    },
    {
     "data": {
      "image/png": "[encoded data removed]",
      "text/plain": [
       "<Figure size 576x576 with 1 Axes>"
      ]
     },
     "metadata": {
      "needs_background": "light"
     },
     "output_type": "display_data"
    }
   ],
   "source": [
    "# Set the size of our plot\n",
    "plt.figure(figsize=(8,8))\n",
    "\n",
    "# Select just the pixel columns and convert them to a numpy array by using .values. \n",
    "imgs = df[pixel_cols].values\n",
    "\n",
    "print(type(imgs))\n",
    "\n",
    "# Select just one image from \n",
    "img = imgs[99]\n",
    "\n",
    "# Reshape the image to be a 28x28 matrix (original format of image)\n",
    "img = img.reshape(28,28)\n",
    "\n",
    "# Plot reshaped image\n",
    "plt.imshow(img, cmap='gray')"
   ]
  },
  {
   "cell_type": "markdown",
   "metadata": {},
   "source": [
    "___\n",
    "# 2. Select and engineer our features.\n",
    "1. Create our `selected_features` that is the list of the columns we are going to use as our `X` data. \n",
    "2. Define our `X` and `y` data. \n",
    "2. Train-test-split our `X` and `y` data"
   ]
  },
  {
   "cell_type": "markdown",
   "metadata": {},
   "source": [
    "### 1. Create our `selected_features` that is the list of the columns we are going to use as our `X` data. "
   ]
  },
  {
   "cell_type": "code",
   "execution_count": 9,
   "metadata": {},
   "outputs": [
    {
     "name": "stdout",
     "output_type": "stream",
     "text": [
      "<class 'pandas.core.indexes.base.Index'>\n",
      "<class 'list'>\n"
     ]
    }
   ],
   "source": [
    "# DOING THIS AGAIN JUST FOR PRACTICE \n",
    "\n",
    "# Grabs all of the columns \n",
    "selected_features = df.columns\n",
    "\n",
    "print(type(selected_features))\n",
    "# Convert the all columns object into a regular list\n",
    "selected_features = list(selected_features)\n",
    "\n",
    "# Sanity check that it is now just a list.\n",
    "print(type(selected_features ))\n",
    "\n",
    "\n",
    "# Remove the label column from the list\n",
    "# This happnes 'in place'\n",
    "selected_features.remove('label')"
   ]
  },
  {
   "cell_type": "markdown",
   "metadata": {},
   "source": [
    "### 2. Define our `X` and `y`"
   ]
  },
  {
   "cell_type": "code",
   "execution_count": 10,
   "metadata": {},
   "outputs": [
    {
     "name": "stdout",
     "output_type": "stream",
     "text": [
      "(6000, 785)\n"
     ]
    },
    {
     "data": {
      "text/plain": [
       "Sandal         646\n",
       "Trouser        612\n",
       "Ankle boot     605\n",
       "Shirt          601\n",
       "Pullover       598\n",
       "Coat           597\n",
       "T-shirt/top    590\n",
       "Dress          585\n",
       "Bag            584\n",
       "Sneaker        582\n",
       "Name: label, dtype: int64"
      ]
     },
     "execution_count": 10,
     "metadata": {},
     "output_type": "execute_result"
    }
   ],
   "source": [
    "# 2. Define our `X` and `y` data. \n",
    "\n",
    "X = df[selected_features]\n",
    "\n",
    "y = df['label']\n",
    "\n",
    "print(df.shape)\n",
    "df.label.value_counts()"
   ]
  },
  {
   "cell_type": "markdown",
   "metadata": {},
   "source": [
    "### 3. Train-test-split our `X` and `y` data"
   ]
  },
  {
   "cell_type": "code",
   "execution_count": 28,
   "metadata": {},
   "outputs": [],
   "source": [
    "# 3. Train-test-split our `X` and `y` data\n",
    "X_train, X_test, y_train, y_test = train_test_split(\n",
    "    X, y, test_size=0.2)"
   ]
  },
  {
   "cell_type": "markdown",
   "metadata": {},
   "source": [
    "____\n",
    "# 3. Build and train our model\n",
    "1. Initalize an empty Support Vector Classifier model.\n",
    "2. Fit that model with our training data. "
   ]
  },
  {
   "cell_type": "code",
   "execution_count": 29,
   "metadata": {},
   "outputs": [],
   "source": [
    "# 1. Initalize an empty Support Vector Classifier model.\n",
    "from sklearn import svm\n",
    "\n",
    "# Initalize our Support Vector Classifier\n",
    "model = svm.SVC()"
   ]
  },
  {
   "cell_type": "code",
   "execution_count": 30,
   "metadata": {},
   "outputs": [
    {
     "data": {
      "text/plain": [
       "SVC()"
      ]
     },
     "execution_count": 30,
     "metadata": {},
     "output_type": "execute_result"
    }
   ],
   "source": [
    "# 2. Fit that model with our training data. \n",
    "model.fit(X_train, y_train)"
   ]
  },
  {
   "cell_type": "markdown",
   "metadata": {},
   "source": [
    "___\n",
    "# 4. Evaluate our model\n",
    "1. Get a baseline accuracy score.\n",
    "2. Make new predictions using our test data. \n",
    "3. Print the classification report. \n",
    "4. Plot the confusion matrix of our predicted results. "
   ]
  },
  {
   "cell_type": "markdown",
   "metadata": {},
   "source": [
    "### 1. Get a baseline accuracy score."
   ]
  },
  {
   "cell_type": "code",
   "execution_count": 31,
   "metadata": {},
   "outputs": [
    {
     "name": "stdout",
     "output_type": "stream",
     "text": [
      "Accuracy 0.832500\n"
     ]
    }
   ],
   "source": [
    "### 1. Get and print a baseline accuracy score.\n",
    "accuracy = model.score(X_test, y_test)\n",
    "print(\"Accuracy %f\" % accuracy)"
   ]
  },
  {
   "cell_type": "markdown",
   "metadata": {},
   "source": [
    "### 2. Make new predictions using our test data. "
   ]
  },
  {
   "cell_type": "code",
   "execution_count": 32,
   "metadata": {},
   "outputs": [],
   "source": [
    "### 2. Make new predictions using our test data. \n",
    "y_pred = model.predict(X_test)"
   ]
  },
  {
   "cell_type": "markdown",
   "metadata": {},
   "source": [
    "### 3. Print the classification report. \n",
    "Use the sklearn helper fuction for this. "
   ]
  },
  {
   "cell_type": "code",
   "execution_count": 33,
   "metadata": {},
   "outputs": [
    {
     "name": "stdout",
     "output_type": "stream",
     "text": [
      "              precision    recall  f1-score   support\n",
      "\n",
      "  Ankle boot       0.88      0.95      0.92       120\n",
      "         Bag       0.91      0.94      0.93       109\n",
      "        Coat       0.74      0.78      0.76       120\n",
      "       Dress       0.80      0.92      0.85       119\n",
      "    Pullover       0.72      0.73      0.73       111\n",
      "      Sandal       0.97      0.87      0.92       134\n",
      "       Shirt       0.66      0.53      0.59       123\n",
      "     Sneaker       0.86      0.87      0.87       127\n",
      " T-shirt/top       0.77      0.79      0.78       121\n",
      "     Trouser       1.00      0.96      0.98       116\n",
      "\n",
      "    accuracy                           0.83      1200\n",
      "   macro avg       0.83      0.83      0.83      1200\n",
      "weighted avg       0.83      0.83      0.83      1200\n",
      "\n"
     ]
    }
   ],
   "source": [
    "### 3. Print the classification report. \n",
    "print(metrics.classification_report(y_test, y_pred))\n"
   ]
  },
  {
   "cell_type": "markdown",
   "metadata": {},
   "source": [
    "### 4. Plot the confusion matrix of our predicted results. "
   ]
  },
  {
   "cell_type": "code",
   "execution_count": 34,
   "metadata": {},
   "outputs": [
    {
     "data": {
      "text/plain": [
       "<sklearn.metrics._plot.confusion_matrix.ConfusionMatrixDisplay at 0x7fa33fc66730>"
      ]
     },
     "execution_count": 34,
     "metadata": {},
     "output_type": "execute_result"
    },
    {
     "data": {
      "image/png": "[encoded data removed]",
      "text/plain": [
       "<Figure size 936x936 with 2 Axes>"
      ]
     },
     "metadata": {
      "needs_background": "light"
     },
     "output_type": "display_data"
    }
   ],
   "source": [
    "### 4. Plot the confusion matrix of our predicted results.\n",
    "fig, ax = plt.subplots(figsize=(13,13))\n",
    "metrics.plot_confusion_matrix(estimator=model, \n",
    "                              X=X_test, \n",
    "                              y_true=y_test, \n",
    "                              ax=ax)"
   ]
  },
  {
   "cell_type": "markdown",
   "metadata": {},
   "source": [
    "### Looking at the confusion matrix, which two clothing items were mis-classfied with eachother the most?"
   ]
  },
  {
   "cell_type": "code",
   "execution_count": 35,
   "metadata": {},
   "outputs": [
    {
     "name": "stdout",
     "output_type": "stream",
     "text": [
      "The classifier mistaked T-shirt/top and Shirt the most.\n"
     ]
    }
   ],
   "source": [
    "print('The classifier mistaked T-shirt/top and Shirt the most.')"
   ]
  },
  {
   "cell_type": "markdown",
   "metadata": {},
   "source": [
    "___\n",
    "### Build a function thats input is an unfitted model, X, and y data, and runs the whole pipeline and prints a classification report and confusion matrix. "
   ]
  },
  {
   "cell_type": "code",
   "execution_count": 36,
   "metadata": {},
   "outputs": [],
   "source": [
    "### Build a function thats input is an empty model, X, and y data, and runs the whole pipeline and prints a classification report and confusion matrix. \n",
    "def build_and_eval_model(model, X, y, random_state=23):\n",
    "    print(\"Running report for model\", model)\n",
    "\n",
    "    X_train, X_test, y_train, y_test = train_test_split(\n",
    "        X, y, test_size=0.25, random_state=random_state)    \n",
    "    \n",
    "\n",
    "    model.fit(X_train, y_train)\n",
    "    \n",
    "    accuracy = model.score(X_test, y_test)\n",
    "    print(\"\\n\\nAccuracy %f\" % accuracy)\n",
    "    \n",
    "    y_pred = model.predict(X_test)\n",
    "    \n",
    "    \n",
    "    print(metrics.classification_report(y_test, y_pred))\n",
    "    \n",
    "   \n",
    "    fig, ax = plt.subplots(figsize=(13,13))\n",
    "    \n",
    "    metrics.plot_confusion_matrix(estimator=model, \n",
    "                                  X=X_test, \n",
    "                                  y_true=y_test, \n",
    "                                  ax=ax)\n",
    "\n",
    "    return model"
   ]
  },
  {
   "cell_type": "markdown",
   "metadata": {},
   "source": [
    "## Run LogisticRegression, RandomForest, and Multinomial Naive Bayes through the function you just built and compare the results. \n",
    "1. Which classifier did the best, and which classifier did the worst. "
   ]
  },
  {
   "cell_type": "code",
   "execution_count": 37,
   "metadata": {},
   "outputs": [
    {
     "name": "stdout",
     "output_type": "stream",
     "text": [
      "Running report for model LogisticRegression()\n",
      "\n",
      "\n",
      "Accuracy 0.812000\n",
      "              precision    recall  f1-score   support\n",
      "\n",
      "  Ankle boot       0.92      0.94      0.93       160\n",
      "         Bag       0.91      0.94      0.93       148\n",
      "        Coat       0.69      0.74      0.71       150\n",
      "       Dress       0.80      0.83      0.81       145\n",
      "    Pullover       0.76      0.73      0.74       162\n",
      "      Sandal       0.93      0.86      0.90       161\n",
      "       Shirt       0.61      0.52      0.56       153\n",
      "     Sneaker       0.85      0.90      0.87       141\n",
      " T-shirt/top       0.69      0.74      0.71       140\n",
      "     Trouser       0.94      0.94      0.94       140\n",
      "\n",
      "    accuracy                           0.81      1500\n",
      "   macro avg       0.81      0.81      0.81      1500\n",
      "weighted avg       0.81      0.81      0.81      1500\n",
      "\n"
     ]
    },
    {
     "name": "stderr",
     "output_type": "stream",
     "text": [
      "/Users/emma/opt/anaconda3/lib/python3.8/site-packages/sklearn/linear_model/_logistic.py:762: ConvergenceWarning: lbfgs failed to converge (status=1):\n",
      "STOP: TOTAL NO. of ITERATIONS REACHED LIMIT.\n",
      "\n",
      "Increase the number of iterations (max_iter) or scale the data as shown in:\n",
      "    https://scikit-learn.org/stable/modules/preprocessing.html\n",
      "Please also refer to the documentation for alternative solver options:\n",
      "    https://scikit-learn.org/stable/modules/linear_model.html#logistic-regression\n",
      "  n_iter_i = _check_optimize_result(\n"
     ]
    },
    {
     "data": {
      "text/plain": [
       "LogisticRegression()"
      ]
     },
     "execution_count": 37,
     "metadata": {},
     "output_type": "execute_result"
    },
    {
     "data": {
      "image/png": "[encoded data removed]",
      "text/plain": [
       "<Figure size 936x936 with 2 Axes>"
      ]
     },
     "metadata": {
      "needs_background": "light"
     },
     "output_type": "display_data"
    }
   ],
   "source": [
    "# LogisticRegression\n",
    "lr = LogisticRegression()\n",
    "build_and_eval_model(lr, X, y)"
   ]
  },
  {
   "cell_type": "code",
   "execution_count": 38,
   "metadata": {},
   "outputs": [
    {
     "name": "stdout",
     "output_type": "stream",
     "text": [
      "Running report for model RandomForestClassifier()\n",
      "\n",
      "\n",
      "Accuracy 0.846000\n",
      "              precision    recall  f1-score   support\n",
      "\n",
      "  Ankle boot       0.93      0.92      0.92       160\n",
      "         Bag       0.91      0.97      0.94       148\n",
      "        Coat       0.75      0.83      0.78       150\n",
      "       Dress       0.80      0.94      0.87       145\n",
      "    Pullover       0.77      0.75      0.76       162\n",
      "      Sandal       0.94      0.92      0.93       161\n",
      "       Shirt       0.68      0.53      0.60       153\n",
      "     Sneaker       0.88      0.89      0.88       141\n",
      " T-shirt/top       0.80      0.79      0.79       140\n",
      "     Trouser       0.99      0.94      0.96       140\n",
      "\n",
      "    accuracy                           0.85      1500\n",
      "   macro avg       0.84      0.85      0.84      1500\n",
      "weighted avg       0.84      0.85      0.84      1500\n",
      "\n"
     ]
    },
    {
     "data": {
      "text/plain": [
       "RandomForestClassifier()"
      ]
     },
     "execution_count": 38,
     "metadata": {},
     "output_type": "execute_result"
    },
    {
     "data": {
      "image/png": "[encoded data removed]",
      "text/plain": [
       "<Figure size 936x936 with 2 Axes>"
      ]
     },
     "metadata": {
      "needs_background": "light"
     },
     "output_type": "display_data"
    }
   ],
   "source": [
    "# RandomForest\n",
    "rf = RandomForestClassifier()\n",
    "\n",
    "build_and_eval_model(rf, X, y)"
   ]
  },
  {
   "cell_type": "code",
   "execution_count": 39,
   "metadata": {},
   "outputs": [
    {
     "name": "stdout",
     "output_type": "stream",
     "text": [
      "Running report for model MultinomialNB()\n",
      "\n",
      "\n",
      "Accuracy 0.652667\n",
      "              precision    recall  f1-score   support\n",
      "\n",
      "  Ankle boot       0.70      0.86      0.78       160\n",
      "         Bag       0.87      0.84      0.85       148\n",
      "        Coat       0.44      0.59      0.50       150\n",
      "       Dress       0.67      0.90      0.77       145\n",
      "    Pullover       0.67      0.60      0.64       162\n",
      "      Sandal       0.78      0.09      0.16       161\n",
      "       Shirt       0.28      0.13      0.18       153\n",
      "     Sneaker       0.53      0.91      0.67       141\n",
      " T-shirt/top       0.72      0.80      0.76       140\n",
      "     Trouser       0.96      0.90      0.93       140\n",
      "\n",
      "    accuracy                           0.65      1500\n",
      "   macro avg       0.66      0.66      0.62      1500\n",
      "weighted avg       0.66      0.65      0.62      1500\n",
      "\n"
     ]
    },
    {
     "data": {
      "text/plain": [
       "MultinomialNB()"
      ]
     },
     "execution_count": 39,
     "metadata": {},
     "output_type": "execute_result"
    },
    {
     "data": {
      "image/png": "[encoded data removed]",
      "text/plain": [
       "<Figure size 936x936 with 2 Axes>"
      ]
     },
     "metadata": {
      "needs_background": "light"
     },
     "output_type": "display_data"
    }
   ],
   "source": [
    "# MultinomialNB\n",
    "from sklearn.naive_bayes import MultinomialNB\n",
    "mnb = MultinomialNB()\n",
    "build_and_eval_model(mnb, X, y)"
   ]
  },
  {
   "cell_type": "code",
   "execution_count": 3,
   "metadata": {},
   "outputs": [
    {
     "name": "stdout",
     "output_type": "stream",
     "text": [
      " YOUR_ANSWER_HERE model did the best and YOUR_ANSWER_HERE model did the worst.\n"
     ]
    }
   ],
   "source": [
    "print('YOUR_ANSWER_HERE model did the best and YOUR_ANSWER_HERE model did the worst.')"
   ]
  },
  {
   "cell_type": "code",
   "execution_count": null,
   "metadata": {
    "collapsed": true
   },
   "outputs": [],
   "source": []
  }
 ],
 "metadata": {
  "kernelspec": {
   "display_name": "Python 3",
   "language": "python",
   "name": "python3"
  },
  "language_info": {
   "codemirror_mode": {
    "name": "ipython",
    "version": 3
   },
   "file_extension": ".py",
   "mimetype": "text/x-python",
   "name": "python",
   "nbconvert_exporter": "python",
   "pygments_lexer": "ipython3",
   "version": "3.8.5"
  }
 },
 "nbformat": 4,
 "nbformat_minor": 2
}
